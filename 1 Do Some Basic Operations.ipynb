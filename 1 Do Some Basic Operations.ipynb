{
 "cells": [
  {
   "cell_type": "markdown",
   "id": "23a7d5f2",
   "metadata": {},
   "source": [
    "# Basic Python Operations"
   ]
  },
  {
   "cell_type": "markdown",
   "id": "df7f7617",
   "metadata": {},
   "source": [
    "Introduction\n",
    "\n",
    "Untuk sesi ini, anda akan mulai mempelajari Python. Python sendiri adalah bahasa yang cukup populer saat ini di berbagai bidang, terutama yang berhubungan dengan data. Mari kita coba dalami lebih lanjut.\n",
    "\n",
    "Sekarang, mari kita coba memulai untuk mencoba Python di Jupyter Notebook! Coba jalankan kode di bawah ini dengan menekan Shift+Enter.\n"
   ]
  },
  {
   "cell_type": "code",
   "execution_count": 1,
   "id": "2127aa40",
   "metadata": {},
   "outputs": [
    {
     "name": "stdout",
     "output_type": "stream",
     "text": [
      "Hello World!!\n"
     ]
    }
   ],
   "source": [
    "print (\"Hello World!!\")"
   ]
  },
  {
   "cell_type": "markdown",
   "id": "75928a01",
   "metadata": {},
   "source": [
    "Selamat, sekarang kamu sudah bisa menggunakan Python! Tentu saja ini masih belum cukup, namun tidak perlu khawatir, karena ingin ditekankan bahwa bahasa Python adalah bahasa yang cukup mudah untuk dipahami."
   ]
  },
  {
   "cell_type": "markdown",
   "id": "fb5ef2a2",
   "metadata": {},
   "source": [
    "### What is Object in Python\n",
    "\n",
    "* Ada beberapa jenis objek yang sering ditemui di python yaitu:"
   ]
  },
  {
   "cell_type": "markdown",
   "id": "04a6a899",
   "metadata": {},
   "source": [
    "| Object Type  | Definisi                                                                              | Contoh                               |\n",
    "|--------------|---------------------------------------------------------------------------------------|--------------------------------------|\n",
    "| Numbers (float, integer)      | Angka (contoh: bilangan bulat, desimal, dll)                                          | 1, 100, 9999, 9.1                    |\n",
    "| Strings      | Teks                                                                                  | 'ayam', 'bebek', 'ikan'              |\n",
    "| Lists        | Kumpulan objek **DAN** dapat diedit                                                   | ['buku', 'pensil', 'pulpen']         |\n",
    "| Tuples       | Kumpulan objek **DAN TIDAK** dapat diedit                                             | (1, 'asik', 2, 'kopi')               |\n",
    "| Set          | Kumpulan objek, tidak dapat diedit, **DAN** tidak boleh ada anggota yang duplikat     | {1, 2, 3, 4}                         |\n",
    "| Dictionaries | Kumpulan objek dengan kunci dan tidak mengenal urutan                                 | {'makanan':'pizza', 'rasa':'mantap'} |"
   ]
  },
  {
   "cell_type": "markdown",
   "id": "cc8e71ce",
   "metadata": {},
   "source": [
    "* Namun di pertemuan ini kita hanya akan fokus di angka(`float`,`integer`) dan `string`.\n",
    "* Objek lainnya akan dibahas lebih dalam pada pertemuan-pertemuan selanjutnya."
   ]
  },
  {
   "cell_type": "markdown",
   "id": "8c21cb47",
   "metadata": {},
   "source": [
    "Mari kita coba perlihatkan contohnya satu per satu."
   ]
  },
  {
   "cell_type": "markdown",
   "id": "223c4305",
   "metadata": {},
   "source": [
    "Contoh: untuk angka, kita cukup mengetik tombol angka yang ada di keyboard kita seperti contoh berikut.\n",
    "\n",
    "Contoh angka bilangan bulat (integer):"
   ]
  },
  {
   "cell_type": "code",
   "execution_count": 4,
   "id": "70df402e",
   "metadata": {},
   "outputs": [
    {
     "data": {
      "text/plain": [
       "212"
      ]
     },
     "execution_count": 4,
     "metadata": {},
     "output_type": "execute_result"
    }
   ],
   "source": [
    "212"
   ]
  },
  {
   "cell_type": "markdown",
   "id": "04b1f556",
   "metadata": {},
   "source": [
    "Untuk meyakinkan bahwa objek tersebut adalah angka, kita bisa mengecek dengan menggunakan fungsi `type`"
   ]
  },
  {
   "cell_type": "code",
   "execution_count": 5,
   "id": "25e72b63",
   "metadata": {},
   "outputs": [
    {
     "data": {
      "text/plain": [
       "int"
      ]
     },
     "execution_count": 5,
     "metadata": {},
     "output_type": "execute_result"
    }
   ],
   "source": [
    "type (212)"
   ]
  },
  {
   "cell_type": "code",
   "execution_count": 7,
   "id": "924e94c0",
   "metadata": {},
   "outputs": [
    {
     "data": {
      "text/plain": [
       "str"
      ]
     },
     "execution_count": 7,
     "metadata": {},
     "output_type": "execute_result"
    }
   ],
   "source": [
    "type (\"212\")"
   ]
  },
  {
   "cell_type": "markdown",
   "id": "09f0443b",
   "metadata": {},
   "source": [
    "Terlihat bahwa hasilnya adalah int (integer), yang artinya adalah betul bahwa objek tersebut merupakan objek angka."
   ]
  },
  {
   "cell_type": "markdown",
   "id": "3ee4ab44",
   "metadata": {},
   "source": [
    "Terlihat bahwa jika hasilnya adalah str (string), yang artinya adalah betul bahwa objek tersebut merupakan objek teks dikarenakan menggunakan tanda petik dua (\")."
   ]
  },
  {
   "cell_type": "markdown",
   "id": "157e0677",
   "metadata": {},
   "source": [
    "Contoh lain dari bentuk angka yang sering ditemui adalah float:"
   ]
  },
  {
   "cell_type": "code",
   "execution_count": 8,
   "id": "a71eba9c",
   "metadata": {},
   "outputs": [
    {
     "data": {
      "text/plain": [
       "3.14"
      ]
     },
     "execution_count": 8,
     "metadata": {},
     "output_type": "execute_result"
    }
   ],
   "source": [
    "3.14"
   ]
  },
  {
   "cell_type": "code",
   "execution_count": 10,
   "id": "87f9437b",
   "metadata": {},
   "outputs": [
    {
     "data": {
      "text/plain": [
       "float"
      ]
     },
     "execution_count": 10,
     "metadata": {},
     "output_type": "execute_result"
    }
   ],
   "source": [
    "type(3.14)"
   ]
  },
  {
   "cell_type": "markdown",
   "id": "10dac55d",
   "metadata": {},
   "source": [
    "---\n",
    "Bisa dicoba juga dengan contoh tabel di atas untuk mengecek sendiri nama-nama tipe objek di Python."
   ]
  },
  {
   "cell_type": "code",
   "execution_count": 11,
   "id": "6b3c9a13",
   "metadata": {},
   "outputs": [
    {
     "data": {
      "text/plain": [
       "str"
      ]
     },
     "execution_count": 11,
     "metadata": {},
     "output_type": "execute_result"
    }
   ],
   "source": [
    "#type string\n",
    "type('ayam')"
   ]
  },
  {
   "cell_type": "code",
   "execution_count": 12,
   "id": "01e5510b",
   "metadata": {},
   "outputs": [
    {
     "data": {
      "text/plain": [
       "list"
      ]
     },
     "execution_count": 12,
     "metadata": {},
     "output_type": "execute_result"
    }
   ],
   "source": [
    "#tipe objek list\n",
    "type(['buku', 'pensil', 'pulpen'])"
   ]
  },
  {
   "cell_type": "code",
   "execution_count": 13,
   "id": "cc7fa5b5",
   "metadata": {},
   "outputs": [
    {
     "data": {
      "text/plain": [
       "tuple"
      ]
     },
     "execution_count": 13,
     "metadata": {},
     "output_type": "execute_result"
    }
   ],
   "source": [
    "#tipe objek tuple\n",
    "type((1, 'asik', 2, 'kopi'))"
   ]
  },
  {
   "cell_type": "code",
   "execution_count": 14,
   "id": "311ff66b",
   "metadata": {},
   "outputs": [
    {
     "data": {
      "text/plain": [
       "set"
      ]
     },
     "execution_count": 14,
     "metadata": {},
     "output_type": "execute_result"
    }
   ],
   "source": [
    "#tipe objek set\n",
    "type({1, 2, 3, 4})"
   ]
  },
  {
   "cell_type": "code",
   "execution_count": 15,
   "id": "ca2973a7",
   "metadata": {},
   "outputs": [
    {
     "data": {
      "text/plain": [
       "dict"
      ]
     },
     "execution_count": 15,
     "metadata": {},
     "output_type": "execute_result"
    }
   ],
   "source": [
    "#tipe objek dictionary\n",
    "type({'makanan':'pizza', 'rasa':'mantap'})"
   ]
  },
  {
   "cell_type": "markdown",
   "id": "92edfd80",
   "metadata": {},
   "source": [
    "### Type Conversion\n",
    "\n",
    "Yang akan dikenalkan di sini adalah mengubah suatu object Python menjadi:\n",
    "- Angka (integer, float)\n",
    "- String\n",
    "- List\n",
    "- Tuple\n",
    "- Set"
   ]
  },
  {
   "cell_type": "markdown",
   "id": "1d77e3cc",
   "metadata": {},
   "source": [
    "Misal, kita mempunyai sebuah objek string \"1010\", yang akan kita namakan sebagai `asik`."
   ]
  },
  {
   "cell_type": "code",
   "execution_count": 18,
   "id": "04ef0737",
   "metadata": {},
   "outputs": [],
   "source": [
    "asik = '1010'"
   ]
  },
  {
   "cell_type": "markdown",
   "id": "fe05d9e5",
   "metadata": {},
   "source": [
    "Sekarang kita coba cek asik dengan cara print."
   ]
  },
  {
   "cell_type": "code",
   "execution_count": 20,
   "id": "555e98e0",
   "metadata": {},
   "outputs": [
    {
     "name": "stdout",
     "output_type": "stream",
     "text": [
      "1010\n"
     ]
    }
   ],
   "source": [
    "print(asik)"
   ]
  },
  {
   "cell_type": "markdown",
   "id": "4fa0828e",
   "metadata": {},
   "source": [
    "Cek tipe objek dengan cara sebelumnya."
   ]
  },
  {
   "cell_type": "code",
   "execution_count": 21,
   "id": "03ee7ff3",
   "metadata": {},
   "outputs": [
    {
     "data": {
      "text/plain": [
       "str"
      ]
     },
     "execution_count": 21,
     "metadata": {},
     "output_type": "execute_result"
    }
   ],
   "source": [
    "type(asik)"
   ]
  },
  {
   "cell_type": "markdown",
   "id": "08c6ea05",
   "metadata": {},
   "source": [
    "Oke, sudah tepat bahwa objek tersebut adalah string, tapi mungkin ada beberapa yang masih bertanya: mengapa angka 1010 dianggap sebagai string? Karena kita menggunakan tanda kutip (`\"` atau `'`) sehingga Python mengganggap objek tersebut sebagai string. "
   ]
  },
  {
   "cell_type": "markdown",
   "id": "7d18108b",
   "metadata": {},
   "source": [
    "Lalu, bagaimana untuk mengubah `asik` menjadi angka? Simpel, kita cukup menggunakan nama objek yang kita inginkan ke `asik`."
   ]
  },
  {
   "cell_type": "code",
   "execution_count": 22,
   "id": "d24037a4",
   "metadata": {},
   "outputs": [],
   "source": [
    "angka_asik = int(asik)"
   ]
  },
  {
   "cell_type": "code",
   "execution_count": 23,
   "id": "38643673",
   "metadata": {},
   "outputs": [
    {
     "name": "stdout",
     "output_type": "stream",
     "text": [
      "1010\n"
     ]
    }
   ],
   "source": [
    "print(angka_asik)"
   ]
  },
  {
   "cell_type": "code",
   "execution_count": 24,
   "id": "d8a02c56",
   "metadata": {},
   "outputs": [
    {
     "data": {
      "text/plain": [
       "int"
      ]
     },
     "execution_count": 24,
     "metadata": {},
     "output_type": "execute_result"
    }
   ],
   "source": [
    "type(angka_asik)"
   ]
  },
  {
   "cell_type": "markdown",
   "id": "b8812ce6",
   "metadata": {},
   "source": [
    "Asik."
   ]
  },
  {
   "cell_type": "markdown",
   "id": "27389c6f",
   "metadata": {},
   "source": [
    "Selain integer, kita juga mengubah ke format angka lainnya yaitu float. Float sendiri bisa digunakan jika ingin menghadirkan desimal di angka yang kita punya. Ini juga akan sangat berguna jika nantinya diinginkan perhitungan yang lebih detail."
   ]
  },
  {
   "cell_type": "code",
   "execution_count": 25,
   "id": "b3bc9a41",
   "metadata": {},
   "outputs": [
    {
     "data": {
      "text/plain": [
       "1010.0"
      ]
     },
     "execution_count": 25,
     "metadata": {},
     "output_type": "execute_result"
    }
   ],
   "source": [
    "float(angka_asik)"
   ]
  },
  {
   "cell_type": "markdown",
   "id": "20ff3261",
   "metadata": {},
   "source": [
    "Dalam hal ini 1010 muncul sebagai 1010.0"
   ]
  },
  {
   "cell_type": "markdown",
   "id": "a897b673",
   "metadata": {},
   "source": [
    "Bagaimana jika `angka_asik` ingin dikembalikan ke `string`? Cukup dengan menggunakan `string`!"
   ]
  },
  {
   "cell_type": "code",
   "execution_count": 27,
   "id": "dbad651e",
   "metadata": {},
   "outputs": [
    {
     "data": {
      "text/plain": [
       "'1010'"
      ]
     },
     "execution_count": 27,
     "metadata": {},
     "output_type": "execute_result"
    }
   ],
   "source": [
    "str(angka_asik)"
   ]
  },
  {
   "cell_type": "markdown",
   "id": "5789f844",
   "metadata": {},
   "source": [
    "### Operators\n",
    "\n",
    "Didalam sebuah expression, kita bisa menambahkan operator yang menggabungkan value lainnya. Berikut di bawah ini adalah beberapa operator yang dapat digunakan di Python."
   ]
  },
  {
   "cell_type": "markdown",
   "id": "04e1f63f",
   "metadata": {},
   "source": [
    "| Operator                                       | Simbol |\n",
    "|------------------------------------------------|--------|\n",
    "| tambah                                         | +      |\n",
    "| kurang                                         | -      |\n",
    "| kali                                           | *      |\n",
    "| pangkat                                        | **     |\n",
    "| pembagian                                      | /      |\n",
    "| pembagian (dengan output pembulatan kebawah)   | //     |\n",
    "| hasil sisa pembagian                           | %      |\n"
   ]
  },
  {
   "cell_type": "markdown",
   "id": "cb75ea50",
   "metadata": {},
   "source": [
    "#### Tambah kurang kali bagi \n",
    "\n",
    "* Simbol untuk 4 operasi ini standar.\n",
    "* Jika anda pernah memakai microsoft excel, operasinya sama.\n",
    "\n",
    "Penambahan:"
   ]
  },
  {
   "cell_type": "code",
   "execution_count": 28,
   "id": "b7f7b045",
   "metadata": {},
   "outputs": [
    {
     "data": {
      "text/plain": [
       "12"
      ]
     },
     "execution_count": 28,
     "metadata": {},
     "output_type": "execute_result"
    }
   ],
   "source": [
    "5 + 7"
   ]
  },
  {
   "cell_type": "markdown",
   "id": "91e0b298",
   "metadata": {},
   "source": [
    "Pengurangan:"
   ]
  },
  {
   "cell_type": "code",
   "execution_count": 29,
   "id": "384e8e1c",
   "metadata": {},
   "outputs": [
    {
     "data": {
      "text/plain": [
       "-2"
      ]
     },
     "execution_count": 29,
     "metadata": {},
     "output_type": "execute_result"
    }
   ],
   "source": [
    "5 - 7"
   ]
  },
  {
   "cell_type": "markdown",
   "id": "121caa61",
   "metadata": {},
   "source": [
    "Perkalian:"
   ]
  },
  {
   "cell_type": "code",
   "execution_count": 30,
   "id": "8879e3a2",
   "metadata": {},
   "outputs": [
    {
     "data": {
      "text/plain": [
       "45"
      ]
     },
     "execution_count": 30,
     "metadata": {},
     "output_type": "execute_result"
    }
   ],
   "source": [
    "5*9"
   ]
  },
  {
   "cell_type": "markdown",
   "id": "59542fef",
   "metadata": {},
   "source": [
    "Pembagian:"
   ]
  },
  {
   "cell_type": "code",
   "execution_count": 31,
   "id": "ffa4dd30",
   "metadata": {},
   "outputs": [
    {
     "data": {
      "text/plain": [
       "115.0"
      ]
     },
     "execution_count": 31,
     "metadata": {},
     "output_type": "execute_result"
    }
   ],
   "source": [
    "345/3"
   ]
  },
  {
   "cell_type": "markdown",
   "id": "f28367fa",
   "metadata": {},
   "source": [
    "#### Pangkat\n",
    "\n",
    "* Sedikit berbeda dengan bahasa pemrograman pada umumnya yang memakai `^` untuk pangkat.\n",
    "* Python memakai simbol `**`."
   ]
  },
  {
   "cell_type": "code",
   "execution_count": 32,
   "id": "9a63ec38",
   "metadata": {},
   "outputs": [
    {
     "data": {
      "text/plain": [
       "1156"
      ]
     },
     "execution_count": 32,
     "metadata": {},
     "output_type": "execute_result"
    }
   ],
   "source": [
    "34**2"
   ]
  },
  {
   "cell_type": "markdown",
   "id": "5fcdd7a3",
   "metadata": {},
   "source": [
    "#### Floor division\n",
    "\n",
    "* Simbol *floor division* adalah salah satu hal unik di Python.\n",
    "* Kebanyakan bahasa lain membutuhkan fungsi tambahan.\n",
    "* Namun dalam Python cukup dengan `//`\n",
    "* Ini akan menghasilkan hasil pembagian dengan pembulatan kebawah."
   ]
  },
  {
   "cell_type": "code",
   "execution_count": 33,
   "id": "5643e2ba",
   "metadata": {},
   "outputs": [
    {
     "data": {
      "text/plain": [
       "4"
      ]
     },
     "execution_count": 33,
     "metadata": {},
     "output_type": "execute_result"
    }
   ],
   "source": [
    "9//2"
   ]
  },
  {
   "cell_type": "markdown",
   "id": "1cf9b9d6",
   "metadata": {},
   "source": [
    "#### Modulo\n",
    "\n",
    "* Operasi modulo menggunakan tanda `%`\n",
    "* Di dalam pemrograman, operasi modulo akan menghasilkan sisa pembagian:\n",
    "\n",
    "<img src=\"https://miro.medium.com/max/763/1*qNHqiDPc1ElQbdGfOIRXCw.jpeg\" alt=\"Drawing\" width= 500px;/>\n",
    "\n",
    "<small>[Source](https://miro.medium.com/max/763/1*qNHqiDPc1ElQbdGfOIRXCw.jpeg)</small>"
   ]
  },
  {
   "cell_type": "code",
   "execution_count": 34,
   "id": "4add2383",
   "metadata": {},
   "outputs": [
    {
     "data": {
      "text/plain": [
       "1"
      ]
     },
     "execution_count": 34,
     "metadata": {},
     "output_type": "execute_result"
    }
   ],
   "source": [
    "7%3"
   ]
  },
  {
   "cell_type": "markdown",
   "id": "ba98aa32",
   "metadata": {},
   "source": [
    "####  Urutan Operasi"
   ]
  },
  {
   "cell_type": "markdown",
   "id": "e4249a51",
   "metadata": {},
   "source": [
    "Setiap operasi di dalam python memiliki urutan dalam pengoperasiannya. Jika dalam satu ekpression terdapat lebih dari satu operasi, maka kode akan di eksekusi berdasarkan operasi yang lebih tinggi prioritasnya. Berikut tabel prioritas operasi dari operator yang telah di pelajari:\n",
    "<br>\n",
    "<br>\n",
    "\n",
    "| Operator                                       | Simbol |\n",
    "|------------------------------------------------|--------|\n",
    "| Tanda Kurung                                   | ( )     |\n",
    "| Pangkat                                        | **     |\n",
    "| kali, bagi, pembagian (dengan output pembulatan kebawah), hasil sisa pembagian               | * , / , //, %       |\n",
    "| Tambah, Kurang                                  | + , -      |\n",
    "\n",
    "<br>\n",
    "<br>"
   ]
  },
  {
   "cell_type": "code",
   "execution_count": 35,
   "id": "73253048",
   "metadata": {},
   "outputs": [
    {
     "data": {
      "text/plain": [
       "25"
      ]
     },
     "execution_count": 35,
     "metadata": {},
     "output_type": "execute_result"
    }
   ],
   "source": [
    "5 + 2 * 10"
   ]
  },
  {
   "cell_type": "code",
   "execution_count": 36,
   "id": "18704b10",
   "metadata": {},
   "outputs": [
    {
     "data": {
      "text/plain": [
       "56"
      ]
     },
     "execution_count": 36,
     "metadata": {},
     "output_type": "execute_result"
    }
   ],
   "source": [
    "(5 + 2) * 2 ** 3"
   ]
  },
  {
   "cell_type": "code",
   "execution_count": null,
   "id": "4b86c302",
   "metadata": {},
   "outputs": [],
   "source": []
  }
 ],
 "metadata": {
  "kernelspec": {
   "display_name": "Python 3 (ipykernel)",
   "language": "python",
   "name": "python3"
  },
  "language_info": {
   "codemirror_mode": {
    "name": "ipython",
    "version": 3
   },
   "file_extension": ".py",
   "mimetype": "text/x-python",
   "name": "python",
   "nbconvert_exporter": "python",
   "pygments_lexer": "ipython3",
   "version": "3.9.13"
  }
 },
 "nbformat": 4,
 "nbformat_minor": 5
}
